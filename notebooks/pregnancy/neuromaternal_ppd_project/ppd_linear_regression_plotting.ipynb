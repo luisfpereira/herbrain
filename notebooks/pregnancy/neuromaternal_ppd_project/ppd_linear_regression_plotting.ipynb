{
 "cells": [
  {
   "cell_type": "code",
   "execution_count": 53,
   "id": "582c5a54-ae9b-4e1f-bd0b-957056eef67c",
   "metadata": {},
   "outputs": [],
   "source": [
    "import time\n",
    "import os\n",
    "from os.path import join\n",
    "import sys\n",
    "import pandas as pd\n",
    "import nibabel.freesurfer\n",
    "from pathlib import Path\n",
    "\n",
    "import numpy as np\n",
    "import pyvista as pv\n",
    "import torch"
   ]
  },
  {
   "cell_type": "code",
   "execution_count": 54,
   "id": "a286a244-9c45-415f-bc89-40eaf6940ba3",
   "metadata": {},
   "outputs": [],
   "source": [
    "structure_id = 17  # Left-Hippocampus\n",
    "brain_structure_filename = f\"resliced_mesh_{structure_id}\"\n",
    "shapes_dir = Path('/Users/sak/.herbrain/data/pregnancy/neuromaternal_madrid_2021/derivatives/enigma_shape')"
   ]
  },
  {
   "cell_type": "code",
   "execution_count": 55,
   "id": "2abe9b06-7128-4c85-b87a-16b4b9d47418",
   "metadata": {},
   "outputs": [],
   "source": [
    "def nibabel_to_pyvista(mesh):\n",
    "    V, F = mesh\n",
    "    faces = np.hstack(np.c_[np.full(len(F), 3), F]).astype(np.int64)\n",
    "    return pv.PolyData(V, faces)"
   ]
  },
  {
   "cell_type": "code",
   "execution_count": 56,
   "id": "152e2440-bf54-4b4f-8df2-6b34a75d8c4e",
   "metadata": {},
   "outputs": [
    {
     "name": "stdout",
     "output_type": "stream",
     "text": [
      "{'3c4a4a2b19', 'c22eebaf68', 'ed2a398ef5', 'a0131fa8b8', '3c92b464a0', '863991917d', '1db8e32656', 'c7b1145ac8', '5e867e35e6', 'b62f625bc7', '690eec56c3', 'bf576701af', '57622fa0f9', 'b837585268', 'aba25b512d', 'f209c3fa4b', '3f68c4406d', 'efe5f05d66', '84be77a9cb', '7bd2334282', '3f751fe2c2', 'a5e6bbb4e1', '90e636662e', '96fab186d7', '5c1ae9ac67', '945e4ab297', '26e0dc601b', '082dc070c1', 'e85fe1cf8a', '717e805d07', 'c9a0ecdb96', 'e28f20c1bf', '4abde43b71', '2edf82ffc5', '15901c4398', '073801a359', 'a7a60575c7', '74ad7c8895', 'b627a7c635', 'a8fd90daa4', '4c1ea69777', '718923d847', '0872b8db24', '343a5d44e7', 'e0e4067b5d', '593ac50159', '810e8bcfc7', '049ab1a591', '11a123772c', 'c01a46c7f9', 'c1be0ff860', '47fb269f0c', 'c4c18afc24', 'd367eabca4', 'e72d2b2eff', '085a9ee2fc', '4f7098b19c', '6733e7702c', '31879f2221', 'ba9ede24d1', '22cdbe0c1b', '306d3a97b3', '7368c7582b', '59580b610d', '2d086560ad', 'ddc64ac56d', '8029be34e5', 'ff91cacb30', '948e10968e', 'a32661b55d', '7304a751ea', 'ed886bc0bd', '66ed43826b', 'd39cf9002b', '0b6820582a', 'fcad4b7f8c', '6b9079271c', '7b6707cd34', 'd4ed5fd5da', 'a7aab420c1', 'deaeb431ad', '8598101dd1', '604e89c97e', 'f922d45e9a', '0a9b5eb6f1', 'e7bbc362ec', '72ea64f73c', 'adcba77b1e', '4cede517b5', '15255749dc', '5356354624', '471fecf35b', '7f2fe84ef2', '67eb38f7e9', 'b259baf366', '39dd102cbf', '782092245c', '584e7fbdba', 'bf8f724976', 'bba806c237', '781e443fcb', '6fd380db03', '6e902eafac', 'b694dab0c4', '4cf50fd8bc', 'b0d275dca1', 'cc8bfad990', 'e05e52be73', 'e10934f7d6', 'a9ae29e7b8', '5f42d47ec5', 'b63e08aef2', 'ccce0782e0', '57747cb2eb', '6e5a9fb778', '5aa6c7faa1', '68f8586911', '432c5fab2c', '7d65d104f2', '17ca82ae03', '254daf33ca', 'eadc021f6f', '8d5824be35', 'b75569792e', 'aa1bed1911', '9e143ef040', 'facd54026a', 'af0b71394f', 'f7a4c2297b', '7d1ffaf130', 'f2ec40742b', '17641fc443', '85166184d6', 'de172debbf', '8ccd1d5df7', 'b253f8ccbc', 'bf028a52b9', '7883dbc6da', 'fb91476aa2', '4732ae8cde', 'cf4de8f9d2', '6021ebb443', '3b4d062226', '63db63081a', '9ae83e0927', '3cb6244806', '697823f5d8', '471db43041', 'f6c2d6696b', '5b139f503d', 'b4010d68ae', 'e4608ddfa3', 'c152c325f4', '6dc2a2528b'}\n",
      "154\n",
      "HELP :(\n",
      "HELP :(\n",
      "HELP :(\n"
     ]
    }
   ],
   "source": [
    "import re\n",
    "\n",
    "all_subject_meshes = {}\n",
    "\n",
    "# Extract unique subject IDs\n",
    "subject_ids = set()\n",
    "for subdir in os.listdir(shapes_dir):\n",
    "    # print(subdir)\n",
    "    match = re.match(r\"sub-(\\w+)_ses-[34]\", subdir)\n",
    "    if match:\n",
    "        # print(\"match!\")\n",
    "        subject_ids.add(match.group(1))\n",
    "\n",
    "print(subject_ids)\n",
    "print(len(subject_ids))\n",
    "# session 3 corresponds to our 't0', meaning the data from the third trimester pregnancy\n",
    "# session 4 corresponds to our 't1', meaning the postpartum data\n",
    "for subject_id in sorted(subject_ids):\n",
    "    sub_meshes = {}\n",
    "    \n",
    "    ses3_path = shapes_dir / f\"sub-{subject_id}_ses-3\" / \"resliced_mesh_17\"\n",
    "    ses4_path = shapes_dir / f\"sub-{subject_id}_ses-4\" / \"resliced_mesh_17\"\n",
    "\n",
    "    if not ses3_path.exists() or not ses4_path.exists():\n",
    "        print(\"HELP :(\")\n",
    "        continue\n",
    "\n",
    "    mesh3 = nibabel.freesurfer.read_geometry(str(ses3_path))\n",
    "    mesh4 = nibabel.freesurfer.read_geometry(str(ses4_path))\n",
    "\n",
    "    pv_mesh3 = nibabel_to_pyvista(mesh3)\n",
    "    pv_mesh4 = nibabel_to_pyvista(mesh4)\n",
    "\n",
    "    # Align ses-4 to ses-3\n",
    "    aligned_mesh4 = pv_mesh4.align(\n",
    "        pv_mesh3,\n",
    "        max_landmarks=100,\n",
    "        max_mean_distance=1e-5,\n",
    "        max_iterations=500,\n",
    "        check_mean_distance=True,\n",
    "        start_by_matching_centroids=True,\n",
    "    )\n",
    "\n",
    "    sub_meshes['t0'] = pv_mesh3\n",
    "    sub_meshes['t1'] = aligned_mesh4\n",
    "    all_subject_meshes[subject_id] = sub_meshes"
   ]
  },
  {
   "cell_type": "code",
   "execution_count": 84,
   "id": "6ebf1042-1721-4cc4-a169-e8cc1503587d",
   "metadata": {},
   "outputs": [],
   "source": [
    "# load depression scores \n",
    "df = pd.read_csv(\"/Users/sak/.herbrain/data/pregnancy/old/czi_data_1st_upload_hggm/neuromaternal_madrid_2021/rawdata/participants_long_czi.tsv\", sep='\\t')\n",
    "\n",
    "# make column with only participant id (remove 'sub-')\n",
    "df['participant_id_clean'] = df['participant_id'].str.replace('sub-', '', regex=False)\n"
   ]
  },
  {
   "cell_type": "code",
   "execution_count": 85,
   "id": "23a1a54f-abd1-4417-9eef-c5a23d5631c5",
   "metadata": {},
   "outputs": [
    {
     "name": "stdout",
     "output_type": "stream",
     "text": [
      "Missing: 945e4ab297\n"
     ]
    },
    {
     "data": {
      "application/vnd.jupyter.widget-view+json": {
       "model_id": "f6b6128b2f2d4b0b81c882444e9565fd",
       "version_major": 2,
       "version_minor": 0
      },
      "text/plain": [
       "Widget(value='<iframe src=\"http://localhost:65069/index.html?ui=P_0x32cd65090_7&reconnect=auto\" class=\"pyvista…"
      ]
     },
     "metadata": {},
     "output_type": "display_data"
    }
   ],
   "source": [
    "def average_pyvista_meshes(meshes):\n",
    "    n_points = meshes[0].n_points\n",
    "    \n",
    "    stacked_vertices = np.stack([mesh.points for mesh in meshes if mesh is not None], axis=0)  # shape (n, m, 3)\n",
    "    average_vertices = np.mean(stacked_vertices, axis=0)  # shape (m, 3)\n",
    "    \n",
    "    averaged_mesh = pv.PolyData(average_vertices, meshes[0].faces)\n",
    "    \n",
    "    return averaged_mesh\n",
    "\n",
    "meshes = [all_subject_meshes[sub_id]['t0'] if sub_id in all_subject_meshes else print(f\"Missing: {sub_id}\") for sub_id in healthy_mothers_ids]\n",
    "# print(meshes)\n",
    "\n",
    "average_brain = average_pyvista_meshes(meshes)\n",
    "\n",
    "plotter = pv.Plotter()\n",
    "plotter.add_mesh(average_mesh, color=\"red\", opacity=0.5)\n",
    "plotter.show()"
   ]
  },
  {
   "cell_type": "code",
   "execution_count": 86,
   "id": "41971732-d904-4373-8740-9a29f7812716",
   "metadata": {},
   "outputs": [],
   "source": [
    "trajectories = {}\n",
    "\n",
    "for sub_id in all_subject_meshes:\n",
    "    t1_mesh = all_subject_meshes[sub_id]['t1']\n",
    "    \n",
    "    # Compute the vertex-wise difference\n",
    "    difference = t1_mesh.points - average_brain.points\n",
    "    \n",
    "    difference_mesh = average_brain.copy()\n",
    "    difference_mesh['displacement'] = difference\n",
    "    \n",
    "    trajectories[sub_id] = difference_mesh\n"
   ]
  },
  {
   "cell_type": "code",
   "execution_count": 87,
   "id": "2dfcf439-2016-44df-ad6d-7beb45533ac6",
   "metadata": {},
   "outputs": [],
   "source": [
    "def compute_average_displacement(trajectory_mesh):\n",
    "    disp_vectors = trajectory_mesh['displacement']\n",
    "    magnitudes = np.linalg.norm(disp_vectors, axis=1) \n",
    "    return np.mean(magnitudes)"
   ]
  },
  {
   "cell_type": "code",
   "execution_count": 88,
   "id": "f4f758d1-3eef-4882-ab38-c763c3a1c2e9",
   "metadata": {},
   "outputs": [],
   "source": [
    "'''\n",
    "EDS.Total is edinburgh depression score\n",
    "right now i am only using the EDS from the second session (ses-4) to filter the depression diagnosis --\n",
    "    my reasoning is that indicator of postpartum depression will be the score from the postpartum session even though they record it in the pregnant session as well\n",
    "\n",
    "TODO: in the data, some mothers depression score increases and some decreases between sessions. some changes in score make diagnosis change -- e.g.:\n",
    "    mother1 could be healthy in ses-3 and depressed in ses-4\n",
    "    mother2 could be depressed in ses-3 and healthy in ses-4\n",
    "    mother3 could be healthy in both sessions\n",
    "    mother4 could be depressed in both sessions\n",
    "    \n",
    "how do we want to handle this in analysis?\n",
    "'''\n",
    "\n",
    "# filter for healthy mothers in ses-4 with EDS < 10\n",
    "healthy_df = df[\n",
    "    (df['group'] == 'mother') &\n",
    "    (df['EDS.Total'] < 10.) &\n",
    "    (df['participant_id_ses'].str.endswith('ses-4'))\n",
    "]\n",
    "\n",
    "# only keep rows where we have trajectories\n",
    "healthy_df = healthy_df[healthy_df['participant_id_clean'].isin(trajectories.keys())]\n",
    "\n",
    "# now get EDS values \n",
    "healthy_magnitudes = []\n",
    "healthy_eds_values = []\n",
    "\n",
    "for _, row in healthy_df.iterrows():\n",
    "    sub_id = row['participant_id_clean']\n",
    "    if sub_id in trajectories:\n",
    "        healthy_magnitudes.append(compute_average_displacement(trajectories[sub_id]))\n",
    "        healthy_eds_values.append(row['EDS.Total'])\n",
    "\n",
    "depressed_df = df[\n",
    "    (df['group'] == 'mother') &\n",
    "    (df['EDS.Total'] >= 10.) &\n",
    "    (df['participant_id_ses'].str.endswith('ses-4'))\n",
    "]\n",
    "\n",
    "depressed_df = depressed_df[depressed_df['participant_id_clean'].isin(trajectories.keys())]\n",
    "\n",
    "depressed_magnitudes = []\n",
    "depressed_eds_values = []\n",
    "\n",
    "for _, row in depressed_df.iterrows():\n",
    "    sub_id = row['participant_id_clean']\n",
    "    if sub_id in trajectories:\n",
    "        depressed_magnitudes.append(compute_average_displacement(trajectories[sub_id]))\n",
    "        depressed_eds_values.append(row['EDS.Total'])"
   ]
  },
  {
   "cell_type": "code",
   "execution_count": 89,
   "id": "55827540-a72a-4309-957f-0ee9c5565bd0",
   "metadata": {},
   "outputs": [],
   "source": [
    "# convert to numpy arrays\n",
    "X_healthy = np.array(healthy_magnitudes).reshape(-1, 1)\n",
    "y_healthy = np.array(healthy_eds_values)\n",
    "\n",
    "X_depressed = np.array(depressed_magnitudes).reshape(-1, 1)\n",
    "y_depressed = np.array(depressed_eds_values)"
   ]
  },
  {
   "cell_type": "code",
   "execution_count": 90,
   "id": "fc4c3f32-c268-4ae8-9bfc-5643f8f9e16a",
   "metadata": {},
   "outputs": [
    {
     "name": "stdout",
     "output_type": "stream",
     "text": [
      "Healthy group:\n",
      "  Slope: -0.104\n",
      "  Intercept: 4.123\n",
      "  R-squared: 0.003\n",
      "Depressed group:\n",
      "  Slope: -0.405\n",
      "  Intercept: 14.784\n",
      "  R-squared: 0.023\n"
     ]
    },
    {
     "data": {
      "image/png": "[encoded data removed]",
      "text/plain": [
       "<Figure size 800x600 with 1 Axes>"
      ]
     },
     "metadata": {},
     "output_type": "display_data"
    }
   ],
   "source": [
    "from sklearn.linear_model import LinearRegression\n",
    "import matplotlib.pyplot as plt\n",
    "\n",
    "# fit separate linear regressions\n",
    "healthy_model = LinearRegression()\n",
    "healthy_model.fit(X_healthy, y_healthy)\n",
    "\n",
    "depressed_model = LinearRegression()\n",
    "depressed_model.fit(X_depressed, y_depressed)\n",
    "\n",
    "# slopes, intercepts, R-squared\n",
    "print(\"Healthy group:\")\n",
    "print(f\"  Slope: {healthy_model.coef_[0]:.3f}\")\n",
    "print(f\"  Intercept: {healthy_model.intercept_:.3f}\")\n",
    "print(f\"  R-squared: {healthy_model.score(X_healthy, y_healthy):.3f}\")\n",
    "\n",
    "print(\"Depressed group:\")\n",
    "print(f\"  Slope: {depressed_model.coef_[0]:.3f}\")\n",
    "print(f\"  Intercept: {depressed_model.intercept_:.3f}\")\n",
    "print(f\"  R-squared: {depressed_model.score(X_depressed, y_depressed):.3f}\")\n",
    "\n",
    "plt.figure(figsize=(8, 6))\n",
    "\n",
    "# Plot\n",
    "plt.scatter(healthy_magnitudes, healthy_eds_values, color='green', label='Healthy')\n",
    "plt.scatter(depressed_magnitudes, depressed_eds_values, color='red', label='Depressed')\n",
    "\n",
    "# regression lines\n",
    "x_vals = np.linspace(min(healthy_magnitudes + depressed_magnitudes),\n",
    "                      max(healthy_magnitudes + depressed_magnitudes), 100).reshape(-1, 1)\n",
    "\n",
    "plt.plot(x_vals, healthy_model.predict(x_vals), color='green', linestyle='--', label='Healthy Fit')\n",
    "plt.plot(x_vals, depressed_model.predict(x_vals), color='red', linestyle='--', label='Depressed Fit')\n",
    "\n",
    "plt.xlabel('Average Displacement Magnitude')\n",
    "plt.ylabel('EDS Score')\n",
    "plt.title('Linear Regression: Displacement vs EDS')\n",
    "plt.legend()\n",
    "plt.show()\n"
   ]
  },
  {
   "cell_type": "code",
   "execution_count": null,
   "id": "7bc84126-a7ab-44e6-8d29-eefba282f9ee",
   "metadata": {},
   "outputs": [],
   "source": []
  }
 ],
 "metadata": {
  "kernelspec": {
   "display_name": "herbrain_kernel",
   "language": "python",
   "name": "herbrain_kernel"
  },
  "language_info": {
   "codemirror_mode": {
    "name": "ipython",
    "version": 3
   },
   "file_extension": ".py",
   "mimetype": "text/x-python",
   "name": "python",
   "nbconvert_exporter": "python",
   "pygments_lexer": "ipython3",
   "version": "3.11.11"
  }
 },
 "nbformat": 4,
 "nbformat_minor": 5
}
